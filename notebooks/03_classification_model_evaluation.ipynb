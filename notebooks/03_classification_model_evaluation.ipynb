{
 "cells": [
  {
   "attachments": {},
   "cell_type": "markdown",
   "metadata": {},
   "source": [
    "Model Evaluation - Classification Template"
   ]
  },
  {
   "cell_type": "code",
   "execution_count": null,
   "metadata": {},
   "outputs": [],
   "source": [
    "import pandas as pd\n",
    "import numpy as np\n",
    "import joblib\n",
    "import warnings\n",
    "warnings.filterwarnings('ignore')\n",
    "\n",
    "from config import modelling_file_path, model_file_path\n",
    "from src.modelling_data_contract import ModellingDataContract\n",
    "from src.modelling.model_evaluation import XGBClassifierEvaluator\n",
    "\n",
    "pd.options.display.max_rows = 999\n",
    "pd.options.display.max_columns = 999\n",
    "\n",
    "%load_ext autoreload\n",
    "%autoreload 2"
   ]
  },
  {
   "attachments": {},
   "cell_type": "markdown",
   "metadata": {},
   "source": [
    "Model"
   ]
  },
  {
   "cell_type": "code",
   "execution_count": null,
   "metadata": {},
   "outputs": [],
   "source": [
    "model_version = 1\n",
    "model_name = \"\""
   ]
  },
  {
   "attachments": {},
   "cell_type": "markdown",
   "metadata": {},
   "source": [
    "Response"
   ]
  },
  {
   "cell_type": "code",
   "execution_count": null,
   "metadata": {},
   "outputs": [],
   "source": [
    "RESPONSE = ModellingDataContract.RESPONSE"
   ]
  },
  {
   "attachments": {},
   "cell_type": "markdown",
   "metadata": {},
   "source": [
    "Features"
   ]
  },
  {
   "cell_type": "code",
   "execution_count": null,
   "metadata": {},
   "outputs": [],
   "source": [
    "FEATURES = ModellingDataContract.feature_list"
   ]
  },
  {
   "attachments": {},
   "cell_type": "markdown",
   "metadata": {},
   "source": [
    "Load Data"
   ]
  },
  {
   "cell_type": "code",
   "execution_count": null,
   "metadata": {},
   "outputs": [],
   "source": [
    "modelling_data = pd.read_csv(modelling_file_path)\n",
    "modelling_data.tail()"
   ]
  },
  {
   "cell_type": "code",
   "execution_count": null,
   "metadata": {},
   "outputs": [],
   "source": [
    "training_data = modelling_data[modelling_data[RESPONSE+\"TrainingSet\"]]\n",
    "test_data = modelling_data[modelling_data[RESPONSE+\"TestSet\"]]\n",
    "cal_data = modelling_data[modelling_data[RESPONSE+\"ValidationSet\"]]"
   ]
  },
  {
   "cell_type": "code",
   "execution_count": null,
   "metadata": {},
   "outputs": [],
   "source": [
    "X_train, y_train = training_data.drop(columns=[RESPONSE]), training_data[RESPONSE]\n",
    "X_test, y_test = test_data.drop(columns=[RESPONSE]), test_data[RESPONSE]\n",
    "X_cal, y_cal = cal_data.drop(columns=[RESPONSE]), cal_data[RESPONSE]"
   ]
  },
  {
   "cell_type": "code",
   "execution_count": null,
   "metadata": {},
   "outputs": [],
   "source": [
    "X_train_preproc = X_train[FEATURES]\n",
    "X_test_preproc = X_test[FEATURES]"
   ]
  },
  {
   "attachments": {},
   "cell_type": "markdown",
   "metadata": {},
   "source": [
    "Load Model"
   ]
  },
  {
   "cell_type": "code",
   "execution_count": null,
   "metadata": {},
   "outputs": [],
   "source": [
    "super_xgb = joblib.load(model_file_path + \"/\" + model_name + \"_v\" + str(model_version) + \".joblib\")"
   ]
  },
  {
   "cell_type": "code",
   "execution_count": null,
   "metadata": {},
   "outputs": [],
   "source": [
    "super_xgb.xgb_model"
   ]
  },
  {
   "attachments": {},
   "cell_type": "markdown",
   "metadata": {},
   "source": [
    "Get Predictions"
   ]
  },
  {
   "cell_type": "code",
   "execution_count": null,
   "metadata": {},
   "outputs": [],
   "source": [
    "train_preds = super_xgb.predict(X_train_preproc)\n",
    "test_preds = super_xgb.predict(X_test_preproc)"
   ]
  },
  {
   "cell_type": "code",
   "execution_count": null,
   "metadata": {},
   "outputs": [],
   "source": [
    "train_probas = super_xgb.predict_proba(X_train_preproc)[:, 1]\n",
    "test_probas = super_xgb.predict_proba(X_test_preproc)[:, 1]"
   ]
  },
  {
   "cell_type": "code",
   "execution_count": null,
   "metadata": {},
   "outputs": [],
   "source": [
    "train_cal_probas = super_xgb.predict_proba(X_train_preproc, calibrate=True)\n",
    "test_cal_probas = super_xgb.predict_proba(X_test_preproc, calibrate=True)"
   ]
  },
  {
   "attachments": {},
   "cell_type": "markdown",
   "metadata": {},
   "source": [
    "Evaluate Model"
   ]
  },
  {
   "cell_type": "code",
   "execution_count": null,
   "metadata": {},
   "outputs": [],
   "source": [
    "training_data['xgb_preds'] = train_preds\n",
    "training_data['xgb_probas'] = train_probas\n",
    "training_data['xgb_cal_probas'] = train_cal_probas\n",
    "\n",
    "train_xgb_evals = XGBClassifierEvaluator(model = super_xgb.xgb_model,\n",
    "                                       data = training_data,\n",
    "                                       actual_name = RESPONSE,\n",
    "                                       expected_name = \"xgb_cal_probas\",\n",
    "                                       expected_label_name = \"xgb_preds\"\n",
    "                                       )"
   ]
  },
  {
   "cell_type": "code",
   "execution_count": null,
   "metadata": {},
   "outputs": [],
   "source": [
    "test_data['xgb_preds'] = test_preds\n",
    "test_data['xgb_probas'] = test_probas\n",
    "test_data['xgb_cal_probas'] = test_cal_probas\n",
    "\n",
    "test_xgb_evals = XGBClassifierEvaluator(model = super_xgb.xgb_model,\n",
    "                                       data = test_data,\n",
    "                                       actual_name = RESPONSE,\n",
    "                                       expected_name = \"xgb_cal_probas\",\n",
    "                                       expected_label_name = \"xgb_preds\"\n",
    "                                       )"
   ]
  },
  {
   "attachments": {},
   "cell_type": "markdown",
   "metadata": {},
   "source": [
    "Model Averages"
   ]
  },
  {
   "cell_type": "code",
   "execution_count": null,
   "metadata": {},
   "outputs": [],
   "source": [
    "training_data[[RESPONSE, 'xgb_probas', 'xgb_cal_probas']].describe()"
   ]
  },
  {
   "cell_type": "code",
   "execution_count": null,
   "metadata": {},
   "outputs": [],
   "source": [
    "test_data[[RESPONSE, 'xgb_probas', 'xgb_cal_probas']].describe()"
   ]
  },
  {
   "attachments": {},
   "cell_type": "markdown",
   "metadata": {},
   "source": [
    "Plots"
   ]
  },
  {
   "cell_type": "code",
   "execution_count": null,
   "metadata": {},
   "outputs": [],
   "source": [
    "train_xgb_evals.plot_feature_importance(max_num_features=10, importance_type=\"total_gain\")\n",
    "test_xgb_evals.plot_feature_importance(max_num_features=10, importance_type=\"total_gain\")"
   ]
  },
  {
   "cell_type": "code",
   "execution_count": null,
   "metadata": {},
   "outputs": [],
   "source": [
    "train_xgb_evals.plot_shap_summary_plot()\n",
    "test_xgb_evals.plot_shap_summary_plot()"
   ]
  },
  {
   "cell_type": "code",
   "execution_count": null,
   "metadata": {},
   "outputs": [],
   "source": [
    "top_features = test_xgb_evals.get_ranked_feature_importance()\n",
    "top_10_features = top_features[:10]\n",
    "top_10_features"
   ]
  },
  {
   "cell_type": "code",
   "execution_count": null,
   "metadata": {},
   "outputs": [],
   "source": [
    "# for col in top_10_features:\n",
    "#     train_xgb_evals.plot_pdp([col])\n",
    "#     test_xgb_evals.plot_pdp([col])"
   ]
  },
  {
   "cell_type": "code",
   "execution_count": null,
   "metadata": {},
   "outputs": [],
   "source": [
    "# for col in top_10_features:\n",
    "#     train_xgb_evals.plot_ice([col])\n",
    "#     test_xgb_evals.plot_ice([col])"
   ]
  },
  {
   "cell_type": "code",
   "execution_count": null,
   "metadata": {},
   "outputs": [],
   "source": [
    "for col in top_10_features:\n",
    "    train_xgb_evals.plot_feature_ave(col)\n",
    "    test_xgb_evals.plot_feature_ave(col)"
   ]
  },
  {
   "attachments": {},
   "cell_type": "markdown",
   "metadata": {},
   "source": [
    "Model Metrics (for probabilities, mainly want calibration curve, logloss and brier score loss)"
   ]
  },
  {
   "cell_type": "code",
   "execution_count": null,
   "metadata": {},
   "outputs": [],
   "source": [
    "train_xgb_evals.get_log_loss(), test_xgb_evals.get_log_loss()"
   ]
  },
  {
   "cell_type": "code",
   "execution_count": null,
   "metadata": {},
   "outputs": [],
   "source": [
    "train_xgb_evals.get_brier_score_loss(), test_xgb_evals.get_brier_score_loss()"
   ]
  },
  {
   "cell_type": "code",
   "execution_count": null,
   "metadata": {},
   "outputs": [],
   "source": [
    "train_xgb_evals.display_calibration_curve(nbins=20)\n",
    "test_xgb_evals.display_calibration_curve(nbins=20)"
   ]
  }
 ],
 "metadata": {
  "kernelspec": {
   "display_name": "afl-total-model-env",
   "language": "python",
   "name": "python3"
  },
  "language_info": {
   "codemirror_mode": {
    "name": "ipython",
    "version": 3
   },
   "file_extension": ".py",
   "mimetype": "text/x-python",
   "name": "python",
   "nbconvert_exporter": "python",
   "pygments_lexer": "ipython3",
   "version": "3.11.5"
  },
  "orig_nbformat": 4,
  "vscode": {
   "interpreter": {
    "hash": "dc578ee0f2f240f88b07d66010ce4f17cba19ae2fcd1972906e53630b629e476"
   }
  }
 },
 "nbformat": 4,
 "nbformat_minor": 2
}
