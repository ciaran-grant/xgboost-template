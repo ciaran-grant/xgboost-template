{
 "cells": [
  {
   "attachments": {},
   "cell_type": "markdown",
   "metadata": {},
   "source": [
    "Model Building - Classification Template"
   ]
  },
  {
   "cell_type": "code",
   "execution_count": null,
   "metadata": {},
   "outputs": [],
   "source": [
    "import pandas as pd\n",
    "import numpy as np\n",
    "import joblib\n",
    "import warnings\n",
    "warnings.filterwarnings('ignore')\n",
    "\n",
    "from config import modelling_file_path, model_output_path, prediction_output_path\n",
    "from src.modelling_data_contract import ModellingDataContract\n",
    "from src.modelling.hyperparameter_tuning import XGBHyperparameterTuner\n",
    "from src.modelling.supermodel import SuperXGBClassifier\n",
    "from src.modelling.optuna_xgb_param_grid import OptunaXGBParamGrid\n",
    "\n",
    "pd.options.display.max_rows = 100\n",
    "pd.options.display.max_columns = 999\n",
    "\n",
    "%load_ext autoreload\n",
    "%autoreload 2"
   ]
  },
  {
   "attachments": {},
   "cell_type": "markdown",
   "metadata": {},
   "source": [
    "Model Version"
   ]
  },
  {
   "cell_type": "code",
   "execution_count": null,
   "metadata": {},
   "outputs": [],
   "source": [
    "model_version = 1\n",
    "model_name = ''\n",
    "model_file_name = model_name + '_v' + str(model_version)"
   ]
  },
  {
   "cell_type": "code",
   "execution_count": null,
   "metadata": {},
   "outputs": [],
   "source": [
    "RESPONSE = ModellingDataContract.RESPONSE"
   ]
  },
  {
   "cell_type": "code",
   "execution_count": null,
   "metadata": {},
   "outputs": [],
   "source": [
    "FEATURES = ModellingDataContract.feature_list"
   ]
  },
  {
   "cell_type": "code",
   "execution_count": null,
   "metadata": {},
   "outputs": [],
   "source": [
    "MONOTONE_CONSTRAINTS = ModellingDataContract.monotone_constraints"
   ]
  },
  {
   "attachments": {},
   "cell_type": "markdown",
   "metadata": {},
   "source": [
    "Load Data"
   ]
  },
  {
   "cell_type": "code",
   "execution_count": null,
   "metadata": {},
   "outputs": [],
   "source": [
    "modelling_data = pd.read_csv(modelling_file_path)\n",
    "modelling_data.tail()"
   ]
  },
  {
   "cell_type": "code",
   "execution_count": null,
   "metadata": {},
   "outputs": [],
   "source": [
    "training_data = modelling_data[modelling_data[RESPONSE+\"TrainingSet\"]]\n",
    "test_data = modelling_data[modelling_data[RESPONSE+\"TestSet\"]]\n",
    "cal_data = modelling_data[modelling_data[RESPONSE+\"ValidationSet\"]]"
   ]
  },
  {
   "cell_type": "code",
   "execution_count": null,
   "metadata": {},
   "outputs": [],
   "source": [
    "X, y = modelling_data.drop(columns=[RESPONSE]), modelling_data[RESPONSE]\n",
    "X_train, y_train = training_data.drop(columns=[RESPONSE]), training_data[RESPONSE]\n",
    "X_test, y_test = test_data.drop(columns=[RESPONSE]), test_data[RESPONSE]\n",
    "X_cal, y_cal = cal_data.drop(columns=[RESPONSE]), cal_data[RESPONSE]"
   ]
  },
  {
   "cell_type": "code",
   "execution_count": null,
   "metadata": {},
   "outputs": [],
   "source": [
    "X_preproc = X[FEATURES]\n",
    "X_train_preproc = X_train[FEATURES]\n",
    "X_test_preproc = X_test[FEATURES]\n",
    "X_cal_preproc = X_cal[FEATURES]"
   ]
  },
  {
   "attachments": {},
   "cell_type": "markdown",
   "metadata": {},
   "source": [
    "Optuna Hyperparameter Tuning Class - HyperParameterTuner & XGBHyperparameterTuner"
   ]
  },
  {
   "cell_type": "code",
   "execution_count": null,
   "metadata": {},
   "outputs": [],
   "source": [
    "xgb_tuner = XGBHyperparameterTuner(X_train_preproc, y_train, monotonicity_constraints=MONOTONE_CONSTRAINTS)"
   ]
  },
  {
   "cell_type": "code",
   "execution_count": null,
   "metadata": {},
   "outputs": [],
   "source": [
    "xgb_tuner.tune_hyperparameters()"
   ]
  },
  {
   "cell_type": "code",
   "execution_count": null,
   "metadata": {},
   "outputs": [],
   "source": [
    "params = xgb_tuner.get_best_params()\n",
    "params"
   ]
  },
  {
   "attachments": {},
   "cell_type": "markdown",
   "metadata": {},
   "source": [
    "Training Model - SuperXGBClassifier class for training and predictions"
   ]
  },
  {
   "cell_type": "code",
   "execution_count": null,
   "metadata": {},
   "outputs": [],
   "source": [
    "params['objective'] = OptunaXGBParamGrid.error\n",
    "params['num_rounds'] = 1000\n",
    "params['early_stopping_rounds'] = 50\n",
    "params['verbosity'] = 1\n",
    "params['monotone_constraints'] = MONOTONE_CONSTRAINTS"
   ]
  },
  {
   "cell_type": "code",
   "execution_count": null,
   "metadata": {},
   "outputs": [],
   "source": [
    "super_xgb = SuperXGBClassifier(X_train = X_train_preproc, \n",
    "                               y_train = y_train, \n",
    "                               X_test = X_test_preproc, \n",
    "                               y_test = y_test,\n",
    "                               X_cal = X_cal_preproc,\n",
    "                               y_cal = y_cal,\n",
    "                               params = params)"
   ]
  },
  {
   "cell_type": "code",
   "execution_count": null,
   "metadata": {},
   "outputs": [],
   "source": [
    "super_xgb.fit()"
   ]
  },
  {
   "cell_type": "code",
   "execution_count": null,
   "metadata": {},
   "outputs": [],
   "source": [
    "super_xgb.xgb_model"
   ]
  },
  {
   "cell_type": "code",
   "execution_count": null,
   "metadata": {},
   "outputs": [],
   "source": [
    "super_xgb.xgb_model.get_booster().feature_names"
   ]
  },
  {
   "cell_type": "code",
   "execution_count": null,
   "metadata": {},
   "outputs": [],
   "source": [
    "preds = super_xgb.predict(X_preproc)\n",
    "train_preds = super_xgb.predict(X_train_preproc)\n",
    "test_preds = super_xgb.predict(X_test_preproc)"
   ]
  },
  {
   "cell_type": "code",
   "execution_count": null,
   "metadata": {},
   "outputs": [],
   "source": [
    "probas = super_xgb.predict_proba(X_preproc)[:, 1]\n",
    "train_probas = super_xgb.predict_proba(X_train_preproc)[:, 1]\n",
    "test_probas = super_xgb.predict_proba(X_test_preproc)[:, 1]\n",
    "cal_probas = super_xgb.predict_proba(X_cal_preproc)[:, 1]"
   ]
  },
  {
   "cell_type": "code",
   "execution_count": null,
   "metadata": {},
   "outputs": [],
   "source": [
    "super_xgb.calibrate()"
   ]
  },
  {
   "cell_type": "code",
   "execution_count": null,
   "metadata": {},
   "outputs": [],
   "source": [
    "cal_probas = super_xgb.predict_proba(X_preproc, calibrate=True)\n",
    "train_cal_probas = super_xgb.predict_proba(X_train_preproc, calibrate=True)\n",
    "test_cal_probas = super_xgb.predict_proba(X_test_preproc, calibrate=True)"
   ]
  },
  {
   "attachments": {},
   "cell_type": "markdown",
   "metadata": {},
   "source": [
    "Check Average Predictions"
   ]
  },
  {
   "cell_type": "code",
   "execution_count": null,
   "metadata": {},
   "outputs": [],
   "source": [
    "probas.mean(), modelling_data[RESPONSE].mean(), cal_probas.mean()"
   ]
  },
  {
   "cell_type": "code",
   "execution_count": null,
   "metadata": {},
   "outputs": [],
   "source": [
    "train_probas.mean(), training_data[RESPONSE].mean(), train_cal_probas.mean()"
   ]
  },
  {
   "cell_type": "code",
   "execution_count": null,
   "metadata": {},
   "outputs": [],
   "source": [
    "test_probas.mean(), test_data[RESPONSE].mean(), test_cal_probas.mean()"
   ]
  },
  {
   "attachments": {},
   "cell_type": "markdown",
   "metadata": {},
   "source": [
    "Export model"
   ]
  },
  {
   "cell_type": "code",
   "execution_count": null,
   "metadata": {},
   "outputs": [],
   "source": [
    "super_xgb.export_model(model_output_path + \"/\" + model_file_name + \".joblib\")"
   ]
  },
  {
   "attachments": {},
   "cell_type": "markdown",
   "metadata": {},
   "source": [
    "Export data and predictions"
   ]
  },
  {
   "cell_type": "code",
   "execution_count": null,
   "metadata": {},
   "outputs": [],
   "source": [
    "modelling_info = modelling_data[['match_id', \"chain_number\", \"order\", RESPONSE]].reset_index(drop = True)\n",
    "modelling_export = pd.concat([modelling_info, X_preproc.reset_index(drop=True)], axis=1)\n",
    "modelling_export['xgb_preds'] = preds\n",
    "modelling_export['xgb_probas'] = probas\n",
    "modelling_export['xgb_probas_cal'] = cal_probas\n",
    "modelling_export.to_csv(prediction_output_path + 'predictions_' + model_file_name + '.csv', index = False)\n",
    "modelling_export.head()"
   ]
  }
 ],
 "metadata": {
  "kernelspec": {
   "display_name": "afl-total-model-env",
   "language": "python",
   "name": "python3"
  },
  "language_info": {
   "codemirror_mode": {
    "name": "ipython",
    "version": 3
   },
   "file_extension": ".py",
   "mimetype": "text/x-python",
   "name": "python",
   "nbconvert_exporter": "python",
   "pygments_lexer": "ipython3",
   "version": "3.11.5"
  },
  "orig_nbformat": 4,
  "vscode": {
   "interpreter": {
    "hash": "dc578ee0f2f240f88b07d66010ce4f17cba19ae2fcd1972906e53630b629e476"
   }
  }
 },
 "nbformat": 4,
 "nbformat_minor": 2
}
