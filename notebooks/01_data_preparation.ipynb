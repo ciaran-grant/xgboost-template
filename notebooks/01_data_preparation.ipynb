{
 "cells": [
  {
   "cell_type": "code",
   "execution_count": 13,
   "metadata": {},
   "outputs": [],
   "source": [
    "import pandas as pd\n",
    "import numpy as np\n",
    "import joblib\n",
    "\n",
    "pd.options.display.max_columns = None\n",
    "pd.options.display.max_rows = None\n",
    "\n",
    "import warnings\n",
    "warnings.filterwarnings(\"ignore\")  \n",
    "\n",
    "from config import raw_file_path, modelling_file_path, preprocessor_file_path\n",
    "from src.data_preprocessor import Preprocessor\n",
    "from src.modelling_data_contract import ModellingDataContract\n",
    "from src.preprocessing import preprocessing_function, create_labels"
   ]
  },
  {
   "attachments": {},
   "cell_type": "markdown",
   "metadata": {},
   "source": [
    "Load Data"
   ]
  },
  {
   "cell_type": "code",
   "execution_count": 14,
   "metadata": {},
   "outputs": [
    {
     "data": {
      "text/html": [
       "<div>\n",
       "<style scoped>\n",
       "    .dataframe tbody tr th:only-of-type {\n",
       "        vertical-align: middle;\n",
       "    }\n",
       "\n",
       "    .dataframe tbody tr th {\n",
       "        vertical-align: top;\n",
       "    }\n",
       "\n",
       "    .dataframe thead th {\n",
       "        text-align: right;\n",
       "    }\n",
       "</style>\n",
       "<table border=\"1\" class=\"dataframe\">\n",
       "  <thead>\n",
       "    <tr style=\"text-align: right;\">\n",
       "      <th></th>\n",
       "      <th>Chain_Number</th>\n",
       "      <th>Initial_State</th>\n",
       "      <th>Final_State</th>\n",
       "      <th>Order</th>\n",
       "      <th>Quarter</th>\n",
       "      <th>Quarter_Duration_Chain_Start</th>\n",
       "      <th>Quarter_Duration</th>\n",
       "      <th>Team_Chain</th>\n",
       "      <th>Team</th>\n",
       "      <th>Player</th>\n",
       "      <th>AFL_API_Player_ID</th>\n",
       "      <th>Description</th>\n",
       "      <th>x</th>\n",
       "      <th>y</th>\n",
       "      <th>Disposal</th>\n",
       "      <th>Shot_At_Goal</th>\n",
       "      <th>Behind_Detail</th>\n",
       "      <th>Venue_Width</th>\n",
       "      <th>Venue_Length</th>\n",
       "      <th>Home_Team</th>\n",
       "      <th>Away_Team</th>\n",
       "      <th>Home_Team_Direction_Q1</th>\n",
       "      <th>Match_ID</th>\n",
       "      <th>Round_ID</th>\n",
       "      <th>Year</th>\n",
       "      <th>Season</th>\n",
       "    </tr>\n",
       "  </thead>\n",
       "  <tbody>\n",
       "    <tr>\n",
       "      <th>0</th>\n",
       "      <td>1</td>\n",
       "      <td>centreBounce</td>\n",
       "      <td>goal</td>\n",
       "      <td>1.0</td>\n",
       "      <td>1</td>\n",
       "      <td>13</td>\n",
       "      <td>13.0</td>\n",
       "      <td>Brisbane Lions</td>\n",
       "      <td>NaN</td>\n",
       "      <td>NaN</td>\n",
       "      <td>NaN</td>\n",
       "      <td>Centre Bounce</td>\n",
       "      <td>0.0</td>\n",
       "      <td>0.0</td>\n",
       "      <td>NaN</td>\n",
       "      <td>NaN</td>\n",
       "      <td>NaN</td>\n",
       "      <td>138</td>\n",
       "      <td>156</td>\n",
       "      <td>Brisbane Lions</td>\n",
       "      <td>Sydney</td>\n",
       "      <td>right</td>\n",
       "      <td>202101_BrisbaneLions_Sydney</td>\n",
       "      <td>202101</td>\n",
       "      <td>2021.0</td>\n",
       "      <td>NaN</td>\n",
       "    </tr>\n",
       "    <tr>\n",
       "      <th>1</th>\n",
       "      <td>1</td>\n",
       "      <td>centreBounce</td>\n",
       "      <td>goal</td>\n",
       "      <td>2.0</td>\n",
       "      <td>1</td>\n",
       "      <td>13</td>\n",
       "      <td>24.0</td>\n",
       "      <td>Brisbane Lions</td>\n",
       "      <td>Brisbane Lions</td>\n",
       "      <td>Dayne Zorko</td>\n",
       "      <td>Dayne_Zorko</td>\n",
       "      <td>Hard Ball Get</td>\n",
       "      <td>8.0</td>\n",
       "      <td>-5.0</td>\n",
       "      <td>NaN</td>\n",
       "      <td>NaN</td>\n",
       "      <td>NaN</td>\n",
       "      <td>138</td>\n",
       "      <td>156</td>\n",
       "      <td>Brisbane Lions</td>\n",
       "      <td>Sydney</td>\n",
       "      <td>right</td>\n",
       "      <td>202101_BrisbaneLions_Sydney</td>\n",
       "      <td>202101</td>\n",
       "      <td>2021.0</td>\n",
       "      <td>NaN</td>\n",
       "    </tr>\n",
       "    <tr>\n",
       "      <th>2</th>\n",
       "      <td>1</td>\n",
       "      <td>centreBounce</td>\n",
       "      <td>goal</td>\n",
       "      <td>3.0</td>\n",
       "      <td>1</td>\n",
       "      <td>13</td>\n",
       "      <td>24.0</td>\n",
       "      <td>Brisbane Lions</td>\n",
       "      <td>Brisbane Lions</td>\n",
       "      <td>Dayne Zorko</td>\n",
       "      <td>Dayne_Zorko</td>\n",
       "      <td>Handball</td>\n",
       "      <td>9.0</td>\n",
       "      <td>-6.0</td>\n",
       "      <td>ineffective</td>\n",
       "      <td>NaN</td>\n",
       "      <td>NaN</td>\n",
       "      <td>138</td>\n",
       "      <td>156</td>\n",
       "      <td>Brisbane Lions</td>\n",
       "      <td>Sydney</td>\n",
       "      <td>right</td>\n",
       "      <td>202101_BrisbaneLions_Sydney</td>\n",
       "      <td>202101</td>\n",
       "      <td>2021.0</td>\n",
       "      <td>NaN</td>\n",
       "    </tr>\n",
       "    <tr>\n",
       "      <th>3</th>\n",
       "      <td>1</td>\n",
       "      <td>centreBounce</td>\n",
       "      <td>goal</td>\n",
       "      <td>4.0</td>\n",
       "      <td>1</td>\n",
       "      <td>13</td>\n",
       "      <td>28.0</td>\n",
       "      <td>Brisbane Lions</td>\n",
       "      <td>Sydney</td>\n",
       "      <td>Oliver Florent</td>\n",
       "      <td>Oliver_Florent</td>\n",
       "      <td>Loose Ball Get</td>\n",
       "      <td>11.0</td>\n",
       "      <td>-7.0</td>\n",
       "      <td>NaN</td>\n",
       "      <td>NaN</td>\n",
       "      <td>NaN</td>\n",
       "      <td>138</td>\n",
       "      <td>156</td>\n",
       "      <td>Brisbane Lions</td>\n",
       "      <td>Sydney</td>\n",
       "      <td>right</td>\n",
       "      <td>202101_BrisbaneLions_Sydney</td>\n",
       "      <td>202101</td>\n",
       "      <td>2021.0</td>\n",
       "      <td>NaN</td>\n",
       "    </tr>\n",
       "    <tr>\n",
       "      <th>4</th>\n",
       "      <td>1</td>\n",
       "      <td>centreBounce</td>\n",
       "      <td>goal</td>\n",
       "      <td>5.0</td>\n",
       "      <td>1</td>\n",
       "      <td>13</td>\n",
       "      <td>29.0</td>\n",
       "      <td>Brisbane Lions</td>\n",
       "      <td>Sydney</td>\n",
       "      <td>Oliver Florent</td>\n",
       "      <td>Oliver_Florent</td>\n",
       "      <td>Handball</td>\n",
       "      <td>12.0</td>\n",
       "      <td>-5.0</td>\n",
       "      <td>effective</td>\n",
       "      <td>NaN</td>\n",
       "      <td>NaN</td>\n",
       "      <td>138</td>\n",
       "      <td>156</td>\n",
       "      <td>Brisbane Lions</td>\n",
       "      <td>Sydney</td>\n",
       "      <td>right</td>\n",
       "      <td>202101_BrisbaneLions_Sydney</td>\n",
       "      <td>202101</td>\n",
       "      <td>2021.0</td>\n",
       "      <td>NaN</td>\n",
       "    </tr>\n",
       "  </tbody>\n",
       "</table>\n",
       "</div>"
      ],
      "text/plain": [
       "   Chain_Number Initial_State Final_State  Order  Quarter  \\\n",
       "0             1  centreBounce        goal    1.0        1   \n",
       "1             1  centreBounce        goal    2.0        1   \n",
       "2             1  centreBounce        goal    3.0        1   \n",
       "3             1  centreBounce        goal    4.0        1   \n",
       "4             1  centreBounce        goal    5.0        1   \n",
       "\n",
       "   Quarter_Duration_Chain_Start  Quarter_Duration      Team_Chain  \\\n",
       "0                            13              13.0  Brisbane Lions   \n",
       "1                            13              24.0  Brisbane Lions   \n",
       "2                            13              24.0  Brisbane Lions   \n",
       "3                            13              28.0  Brisbane Lions   \n",
       "4                            13              29.0  Brisbane Lions   \n",
       "\n",
       "             Team          Player AFL_API_Player_ID     Description     x  \\\n",
       "0             NaN             NaN               NaN   Centre Bounce   0.0   \n",
       "1  Brisbane Lions     Dayne Zorko       Dayne_Zorko   Hard Ball Get   8.0   \n",
       "2  Brisbane Lions     Dayne Zorko       Dayne_Zorko        Handball   9.0   \n",
       "3          Sydney  Oliver Florent    Oliver_Florent  Loose Ball Get  11.0   \n",
       "4          Sydney  Oliver Florent    Oliver_Florent        Handball  12.0   \n",
       "\n",
       "     y     Disposal Shot_At_Goal Behind_Detail  Venue_Width  Venue_Length  \\\n",
       "0  0.0          NaN          NaN           NaN          138           156   \n",
       "1 -5.0          NaN          NaN           NaN          138           156   \n",
       "2 -6.0  ineffective          NaN           NaN          138           156   \n",
       "3 -7.0          NaN          NaN           NaN          138           156   \n",
       "4 -5.0    effective          NaN           NaN          138           156   \n",
       "\n",
       "        Home_Team Away_Team Home_Team_Direction_Q1  \\\n",
       "0  Brisbane Lions    Sydney                  right   \n",
       "1  Brisbane Lions    Sydney                  right   \n",
       "2  Brisbane Lions    Sydney                  right   \n",
       "3  Brisbane Lions    Sydney                  right   \n",
       "4  Brisbane Lions    Sydney                  right   \n",
       "\n",
       "                      Match_ID Round_ID    Year  Season  \n",
       "0  202101_BrisbaneLions_Sydney   202101  2021.0     NaN  \n",
       "1  202101_BrisbaneLions_Sydney   202101  2021.0     NaN  \n",
       "2  202101_BrisbaneLions_Sydney   202101  2021.0     NaN  \n",
       "3  202101_BrisbaneLions_Sydney   202101  2021.0     NaN  \n",
       "4  202101_BrisbaneLions_Sydney   202101  2021.0     NaN  "
      ]
     },
     "execution_count": 14,
     "metadata": {},
     "output_type": "execute_result"
    }
   ],
   "source": [
    "data = pd.read_csv(raw_file_path)\n",
    "data.head()"
   ]
  },
  {
   "attachments": {},
   "cell_type": "markdown",
   "metadata": {},
   "source": [
    "Preprocess Data"
   ]
  },
  {
   "cell_type": "code",
   "execution_count": 4,
   "metadata": {},
   "outputs": [],
   "source": [
    "preproc = Preprocessor()\n",
    "preproc.fit(data)"
   ]
  },
  {
   "cell_type": "code",
   "execution_count": null,
   "metadata": {},
   "outputs": [],
   "source": [
    "X = preproc.transform(data)"
   ]
  },
  {
   "attachments": {},
   "cell_type": "markdown",
   "metadata": {},
   "source": [
    "Create Labels"
   ]
  },
  {
   "cell_type": "code",
   "execution_count": null,
   "metadata": {},
   "outputs": [],
   "source": [
    "y = create_labels(data)"
   ]
  },
  {
   "attachments": {},
   "cell_type": "markdown",
   "metadata": {},
   "source": [
    "Combine Data"
   ]
  },
  {
   "cell_type": "code",
   "execution_count": null,
   "metadata": {},
   "outputs": [],
   "source": [
    "modelling_data = pd.concat([X, y], axis='columns')"
   ]
  },
  {
   "attachments": {},
   "cell_type": "markdown",
   "metadata": {},
   "source": [
    "Create Train Test Validation Split"
   ]
  },
  {
   "cell_type": "code",
   "execution_count": null,
   "metadata": {},
   "outputs": [],
   "source": [
    "modelling_data = get_stratified_train_test_val_columns(modelling_data, response=ModellingDataContract.RESPONSE)"
   ]
  },
  {
   "attachments": {},
   "cell_type": "markdown",
   "metadata": {},
   "source": [
    "Export Data"
   ]
  },
  {
   "cell_type": "code",
   "execution_count": 11,
   "metadata": {},
   "outputs": [],
   "source": [
    "modelling_data.to_csv(modelling_file_path, index=False)"
   ]
  },
  {
   "attachments": {},
   "cell_type": "markdown",
   "metadata": {},
   "source": [
    "Export Preprocessor"
   ]
  },
  {
   "cell_type": "code",
   "execution_count": 12,
   "metadata": {},
   "outputs": [
    {
     "data": {
      "text/plain": [
       "['/Users/ciaran/Documents/Projects/AFL/git-repositories/expected-i50-model/data/preprocessor.joblib']"
      ]
     },
     "execution_count": 12,
     "metadata": {},
     "output_type": "execute_result"
    }
   ],
   "source": [
    "joblib.dump(preproc, preprocessor_file_path)"
   ]
  }
 ],
 "metadata": {
  "kernelspec": {
   "display_name": "xi50-env",
   "language": "python",
   "name": "python3"
  },
  "language_info": {
   "codemirror_mode": {
    "name": "ipython",
    "version": 3
   },
   "file_extension": ".py",
   "mimetype": "text/x-python",
   "name": "python",
   "nbconvert_exporter": "python",
   "pygments_lexer": "ipython3",
   "version": "3.11.5"
  },
  "orig_nbformat": 4
 },
 "nbformat": 4,
 "nbformat_minor": 2
}
